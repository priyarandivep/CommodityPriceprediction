{
 "cells": [
  {
   "cell_type": "markdown",
   "id": "2a5cc895",
   "metadata": {},
   "source": [
    "# 1. Importing important libraries\n"
   ]
  },
  {
   "cell_type": "code",
   "execution_count": 1,
   "id": "4ed6d15a",
   "metadata": {},
   "outputs": [],
   "source": [
    "import pandas as pd\n",
    "import matplotlib.pyplot as plt\n",
    "import seaborn as sns\n",
    "import numpy as np\n",
    "import warnings\n",
    "warnings.filterwarnings(\"ignore\")"
   ]
  },
  {
   "cell_type": "markdown",
   "id": "81e6c58b",
   "metadata": {},
   "source": [
    "# 2. Loading dataset\n"
   ]
  },
  {
   "cell_type": "code",
   "execution_count": 2,
   "id": "147bbb37",
   "metadata": {},
   "outputs": [],
   "source": [
    "df= pd.read_excel(\"mobile_details.xlsx\")"
   ]
  },
  {
   "cell_type": "code",
   "execution_count": 3,
   "id": "23b1806e",
   "metadata": {
    "scrolled": true
   },
   "outputs": [
    {
     "data": {
      "text/html": [
       "<div>\n",
       "<style scoped>\n",
       "    .dataframe tbody tr th:only-of-type {\n",
       "        vertical-align: middle;\n",
       "    }\n",
       "\n",
       "    .dataframe tbody tr th {\n",
       "        vertical-align: top;\n",
       "    }\n",
       "\n",
       "    .dataframe thead th {\n",
       "        text-align: right;\n",
       "    }\n",
       "</style>\n",
       "<table border=\"1\" class=\"dataframe\">\n",
       "  <thead>\n",
       "    <tr style=\"text-align: right;\">\n",
       "      <th></th>\n",
       "      <th>Name</th>\n",
       "      <th>Price</th>\n",
       "      <th>ram</th>\n",
       "      <th>Rom</th>\n",
       "      <th>display</th>\n",
       "      <th>HD</th>\n",
       "      <th>Front_Camera_Resolution_MP</th>\n",
       "      <th>Back/Rare Camera</th>\n",
       "      <th>Battery</th>\n",
       "    </tr>\n",
       "  </thead>\n",
       "  <tbody>\n",
       "    <tr>\n",
       "      <th>0</th>\n",
       "      <td>POCO</td>\n",
       "      <td>6499</td>\n",
       "      <td>4 GB RAM</td>\n",
       "      <td>64 GB ROM</td>\n",
       "      <td>16.56 cm</td>\n",
       "      <td>Yes</td>\n",
       "      <td>5.0</td>\n",
       "      <td>8MP Dual Rear Camera</td>\n",
       "      <td>5000.0</td>\n",
       "    </tr>\n",
       "    <tr>\n",
       "      <th>1</th>\n",
       "      <td>POCO</td>\n",
       "      <td>6499</td>\n",
       "      <td>4 GB RAM</td>\n",
       "      <td>64 GB ROM</td>\n",
       "      <td>16.56 cm</td>\n",
       "      <td>Yes</td>\n",
       "      <td>5.0</td>\n",
       "      <td>8MP Dual Rear Camera</td>\n",
       "      <td>5000.0</td>\n",
       "    </tr>\n",
       "    <tr>\n",
       "      <th>2</th>\n",
       "      <td>POCO</td>\n",
       "      <td>5499</td>\n",
       "      <td>2 GB RAM</td>\n",
       "      <td>32 GB ROM</td>\n",
       "      <td>16.56 cm</td>\n",
       "      <td>Yes</td>\n",
       "      <td>5.0</td>\n",
       "      <td>8MP Dual Camera</td>\n",
       "      <td>5000.0</td>\n",
       "    </tr>\n",
       "    <tr>\n",
       "      <th>3</th>\n",
       "      <td>vivo</td>\n",
       "      <td>13999</td>\n",
       "      <td>6 GB RAM</td>\n",
       "      <td>128 GB ROM</td>\n",
       "      <td>16.71 cm</td>\n",
       "      <td>Yes</td>\n",
       "      <td>8.0</td>\n",
       "      <td>50MP + 2MP</td>\n",
       "      <td>5000.0</td>\n",
       "    </tr>\n",
       "    <tr>\n",
       "      <th>4</th>\n",
       "      <td>vivo</td>\n",
       "      <td>13999</td>\n",
       "      <td>6 GB RAM</td>\n",
       "      <td>128 GB ROM</td>\n",
       "      <td>16.71 cm</td>\n",
       "      <td>Yes</td>\n",
       "      <td>8.0</td>\n",
       "      <td>50MP + 2MP</td>\n",
       "      <td>5000.0</td>\n",
       "    </tr>\n",
       "  </tbody>\n",
       "</table>\n",
       "</div>"
      ],
      "text/plain": [
       "   Name  Price       ram         Rom   display   HD  \\\n",
       "0  POCO   6499  4 GB RAM   64 GB ROM  16.56 cm  Yes   \n",
       "1  POCO   6499  4 GB RAM   64 GB ROM  16.56 cm  Yes   \n",
       "2  POCO   5499  2 GB RAM   32 GB ROM  16.56 cm  Yes   \n",
       "3  vivo  13999  6 GB RAM  128 GB ROM  16.71 cm  Yes   \n",
       "4  vivo  13999  6 GB RAM  128 GB ROM  16.71 cm  Yes   \n",
       "\n",
       "   Front_Camera_Resolution_MP       Back/Rare Camera  Battery  \n",
       "0                         5.0  8MP Dual Rear Camera    5000.0  \n",
       "1                         5.0  8MP Dual Rear Camera    5000.0  \n",
       "2                         5.0       8MP Dual Camera    5000.0  \n",
       "3                         8.0            50MP + 2MP    5000.0  \n",
       "4                         8.0            50MP + 2MP    5000.0  "
      ]
     },
     "execution_count": 3,
     "metadata": {},
     "output_type": "execute_result"
    }
   ],
   "source": [
    "df.head()"
   ]
  },
  {
   "cell_type": "markdown",
   "id": "7f84c547",
   "metadata": {},
   "source": [
    "# 3. Data Description\n"
   ]
  },
  {
   "cell_type": "markdown",
   "id": "7b6011a9",
   "metadata": {},
   "source": [
    "**1. Name**: The name of the mobile phone.\n",
    "\n",
    "**2. Price**: The cost of the mobile phone in Rupees.\n",
    "\n",
    "**3. RAM**: The amount of Random Access Memory, which affects the phone's performance and multitasking capabilities.\n",
    "\n",
    "**4. ROM**: The internal storage capacity, where the operating system, apps, and user data are stored.\n",
    "\n",
    "\n",
    "**5. Display**: Information about the screen, such as size in cm\n",
    "\n",
    "**6. HD**: Likely represents the screen resolution, such as \"High Definition,\" yes or no\n",
    "\n",
    "**7. Front_Camera_Resolution_MP**: The resolution of the front-facing camera in megapixels.\n",
    "\n",
    "**8. Back/Rear Camera**: Specifications of the main or rear-facing camera, including resolution, number of lenses, and camera features.\n",
    "\n",
    "**9. Battery**: The capacity of the battery, typically measured in milliampere-hours (mAh), affecting the phone's battery life.\n"
   ]
  },
  {
   "cell_type": "markdown",
   "id": "7901e652",
   "metadata": {},
   "source": [
    "# 4. Basic imformation about data"
   ]
  },
  {
   "cell_type": "code",
   "execution_count": 4,
   "id": "efaf12f5",
   "metadata": {
    "scrolled": true
   },
   "outputs": [
    {
     "name": "stdout",
     "output_type": "stream",
     "text": [
      "<class 'pandas.core.frame.DataFrame'>\n",
      "RangeIndex: 918 entries, 0 to 917\n",
      "Data columns (total 9 columns):\n",
      " #   Column                      Non-Null Count  Dtype  \n",
      "---  ------                      --------------  -----  \n",
      " 0   Name                        918 non-null    object \n",
      " 1   Price                       918 non-null    int64  \n",
      " 2   ram                         918 non-null    object \n",
      " 3   Rom                         918 non-null    object \n",
      " 4   display                     918 non-null    object \n",
      " 5   HD                          918 non-null    object \n",
      " 6   Front_Camera_Resolution_MP  683 non-null    float64\n",
      " 7   Back/Rare Camera            918 non-null    object \n",
      " 8   Battery                     913 non-null    float64\n",
      "dtypes: float64(2), int64(1), object(6)\n",
      "memory usage: 64.7+ KB\n"
     ]
    }
   ],
   "source": [
    "df.info()"
   ]
  },
  {
   "cell_type": "markdown",
   "id": "72d9f2bc",
   "metadata": {},
   "source": [
    "##### The dataset contains 918 rows and 9 columns. Two columns are of float data type, one is of integer, and six are of object5"
   ]
  },
  {
   "cell_type": "markdown",
   "id": "f97bd860",
   "metadata": {},
   "source": [
    "# 5. Data Cleaning"
   ]
  },
  {
   "cell_type": "code",
   "execution_count": 5,
   "id": "0c392a18",
   "metadata": {},
   "outputs": [],
   "source": [
    "#The 'RAM' column contains the term 'GB RAM,' which is causing it to be classified as an object data type.\n",
    "#However, t is actually of integer datatype.We will remove 'GB RAM' and convert the datatype to int\n",
    "df[\"ram\"]= df[\"ram\"].str.replace(\"GB RAM\", \"\").astype(\"int\")"
   ]
  },
  {
   "cell_type": "markdown",
   "id": "6bcfb10a",
   "metadata": {},
   "source": [
    "##### And the same thing is happening with the 'ROM' column, so we will perform the same steps for this column as well."
   ]
  },
  {
   "cell_type": "code",
   "execution_count": 6,
   "id": "261ae3f0",
   "metadata": {},
   "outputs": [],
   "source": [
    "df[\"Rom\"] =  df[\"Rom\"].str.replace(\"GB ROM\", \"\").astype(\"int\")"
   ]
  },
  {
   "cell_type": "markdown",
   "id": "e7563596",
   "metadata": {},
   "source": [
    "##### The 'display' column contains the word 'cm,' which is causing it to be categorized as an object. Therefore, we will remove this word and convert the datatype to float."
   ]
  },
  {
   "cell_type": "code",
   "execution_count": 7,
   "id": "68d331ac",
   "metadata": {},
   "outputs": [],
   "source": [
    "df[\"display\"] =  df[\"display\"].str.replace(\" cm\", \"\").astype(\"float\")"
   ]
  },
  {
   "cell_type": "code",
   "execution_count": 8,
   "id": "6e33d0e5",
   "metadata": {
    "scrolled": true
   },
   "outputs": [
    {
     "name": "stdout",
     "output_type": "stream",
     "text": [
      "<class 'pandas.core.frame.DataFrame'>\n",
      "RangeIndex: 918 entries, 0 to 917\n",
      "Data columns (total 9 columns):\n",
      " #   Column                      Non-Null Count  Dtype  \n",
      "---  ------                      --------------  -----  \n",
      " 0   Name                        918 non-null    object \n",
      " 1   Price                       918 non-null    int64  \n",
      " 2   ram                         918 non-null    int32  \n",
      " 3   Rom                         918 non-null    int32  \n",
      " 4   display                     918 non-null    float64\n",
      " 5   HD                          918 non-null    object \n",
      " 6   Front_Camera_Resolution_MP  683 non-null    float64\n",
      " 7   Back/Rare Camera            918 non-null    object \n",
      " 8   Battery                     913 non-null    float64\n",
      "dtypes: float64(3), int32(2), int64(1), object(3)\n",
      "memory usage: 57.5+ KB\n"
     ]
    }
   ],
   "source": [
    "df.info()"
   ]
  },
  {
   "cell_type": "code",
   "execution_count": 10,
   "id": "ef673dcc",
   "metadata": {},
   "outputs": [],
   "source": [
    "df[\"Back/Rare Camera\"]= df[\"Back/Rare Camera\"].apply(lambda x: x.strip())"
   ]
  },
  {
   "cell_type": "markdown",
   "id": "83d1b745",
   "metadata": {},
   "source": [
    "##### Now, all columns in our dataset have the correct datatypes"
   ]
  },
  {
   "cell_type": "markdown",
   "id": "46a109b9",
   "metadata": {},
   "source": [
    "\n",
    "\n",
    "# 6. Let's check for null values in our dataset"
   ]
  },
  {
   "cell_type": "code",
   "execution_count": 11,
   "id": "01d15658",
   "metadata": {},
   "outputs": [
    {
     "data": {
      "text/plain": [
       "Name                           0.000000\n",
       "Price                          0.000000\n",
       "ram                            0.000000\n",
       "Rom                            0.000000\n",
       "display                        0.000000\n",
       "HD                             0.000000\n",
       "Front_Camera_Resolution_MP    25.599129\n",
       "Back/Rare Camera               0.000000\n",
       "Battery                        0.544662\n",
       "dtype: float64"
      ]
     },
     "execution_count": 11,
     "metadata": {},
     "output_type": "execute_result"
    }
   ],
   "source": [
    "df.isnull().sum()/len(df)*100"
   ]
  },
  {
   "cell_type": "markdown",
   "id": "2d5045f9",
   "metadata": {},
   "source": [
    "##### There are two columns in the dataset: 'Front_Camera_Resolution_MP' and 'Battery', which contain null values. In the 'Front_Camera_Resolution_MP' column, the proportion of null values exceeds 25%. While it is possible to impute these values using the mean or median, it has been decided to assign them to a separate category instead of pursuing imputation. Additionally, in the 'Battery' column, the percentage of null values is less than 1%. Consequently, it has been determined that the rows with missing 'Battery' values, comprising less than 1% of the dataset, will be removed."
   ]
  },
  {
   "cell_type": "code",
   "execution_count": 12,
   "id": "c1274926",
   "metadata": {},
   "outputs": [],
   "source": [
    "df[\"Front_Camera_Resolution_MP\"]=  df[\"Front_Camera_Resolution_MP\"].fillna(0).astype(\"int\")"
   ]
  },
  {
   "cell_type": "code",
   "execution_count": 13,
   "id": "4a559557",
   "metadata": {},
   "outputs": [],
   "source": [
    "df.dropna(inplace  = True)"
   ]
  },
  {
   "cell_type": "code",
   "execution_count": 14,
   "id": "4cf4bc68",
   "metadata": {},
   "outputs": [
    {
     "data": {
      "text/plain": [
       "Name                          0.0\n",
       "Price                         0.0\n",
       "ram                           0.0\n",
       "Rom                           0.0\n",
       "display                       0.0\n",
       "HD                            0.0\n",
       "Front_Camera_Resolution_MP    0.0\n",
       "Back/Rare Camera              0.0\n",
       "Battery                       0.0\n",
       "dtype: float64"
      ]
     },
     "execution_count": 14,
     "metadata": {},
     "output_type": "execute_result"
    }
   ],
   "source": [
    "df.isnull().sum()/len(df)*100"
   ]
  },
  {
   "cell_type": "markdown",
   "id": "58b22d49",
   "metadata": {},
   "source": [
    "##### We can observe that there are no null values present in our dataset."
   ]
  },
  {
   "cell_type": "code",
   "execution_count": 15,
   "id": "cb9d2525",
   "metadata": {},
   "outputs": [
    {
     "data": {
      "text/html": [
       "<div>\n",
       "<style scoped>\n",
       "    .dataframe tbody tr th:only-of-type {\n",
       "        vertical-align: middle;\n",
       "    }\n",
       "\n",
       "    .dataframe tbody tr th {\n",
       "        vertical-align: top;\n",
       "    }\n",
       "\n",
       "    .dataframe thead th {\n",
       "        text-align: right;\n",
       "    }\n",
       "</style>\n",
       "<table border=\"1\" class=\"dataframe\">\n",
       "  <thead>\n",
       "    <tr style=\"text-align: right;\">\n",
       "      <th></th>\n",
       "      <th>Name</th>\n",
       "      <th>Price</th>\n",
       "      <th>ram</th>\n",
       "      <th>Rom</th>\n",
       "      <th>display</th>\n",
       "      <th>HD</th>\n",
       "      <th>Front_Camera_Resolution_MP</th>\n",
       "      <th>Back/Rare Camera</th>\n",
       "      <th>Battery</th>\n",
       "    </tr>\n",
       "  </thead>\n",
       "  <tbody>\n",
       "    <tr>\n",
       "      <th>390</th>\n",
       "      <td>MOTOROLA</td>\n",
       "      <td>0</td>\n",
       "      <td>4</td>\n",
       "      <td>64</td>\n",
       "      <td>16.26</td>\n",
       "      <td>Yes</td>\n",
       "      <td>13</td>\n",
       "      <td>50MP + 8MP + 2MP</td>\n",
       "      <td>5000.0</td>\n",
       "    </tr>\n",
       "  </tbody>\n",
       "</table>\n",
       "</div>"
      ],
      "text/plain": [
       "         Name  Price  ram  Rom  display   HD  Front_Camera_Resolution_MP  \\\n",
       "390  MOTOROLA      0    4   64    16.26  Yes                          13   \n",
       "\n",
       "     Back/Rare Camera  Battery  \n",
       "390  50MP + 8MP + 2MP   5000.0  "
      ]
     },
     "execution_count": 15,
     "metadata": {},
     "output_type": "execute_result"
    }
   ],
   "source": [
    "df[df[\"Price\"] ==0]"
   ]
  },
  {
   "cell_type": "markdown",
   "id": "07dc22c5",
   "metadata": {},
   "source": [
    "##### One row in the price column contains zero, so we will remove that row"
   ]
  },
  {
   "cell_type": "code",
   "execution_count": 16,
   "id": "09d1b5aa",
   "metadata": {},
   "outputs": [],
   "source": [
    "df.drop([390] , inplace = True)"
   ]
  },
  {
   "cell_type": "code",
   "execution_count": 17,
   "id": "f015bd95",
   "metadata": {},
   "outputs": [],
   "source": [
    "df.reset_index(inplace= True, drop= True )"
   ]
  },
  {
   "cell_type": "code",
   "execution_count": 18,
   "id": "436f6f82",
   "metadata": {
    "scrolled": true
   },
   "outputs": [
    {
     "name": "stdout",
     "output_type": "stream",
     "text": [
      "<class 'pandas.core.frame.DataFrame'>\n",
      "RangeIndex: 912 entries, 0 to 911\n",
      "Data columns (total 9 columns):\n",
      " #   Column                      Non-Null Count  Dtype  \n",
      "---  ------                      --------------  -----  \n",
      " 0   Name                        912 non-null    object \n",
      " 1   Price                       912 non-null    int64  \n",
      " 2   ram                         912 non-null    int32  \n",
      " 3   Rom                         912 non-null    int32  \n",
      " 4   display                     912 non-null    float64\n",
      " 5   HD                          912 non-null    object \n",
      " 6   Front_Camera_Resolution_MP  912 non-null    int32  \n",
      " 7   Back/Rare Camera            912 non-null    object \n",
      " 8   Battery                     912 non-null    float64\n",
      "dtypes: float64(2), int32(3), int64(1), object(3)\n",
      "memory usage: 53.6+ KB\n"
     ]
    }
   ],
   "source": [
    "df.info()"
   ]
  },
  {
   "cell_type": "markdown",
   "id": "dd197dd9",
   "metadata": {},
   "source": [
    "# 7.  Let's print the unique values from our dataset."
   ]
  },
  {
   "cell_type": "code",
   "execution_count": 19,
   "id": "123f8996",
   "metadata": {},
   "outputs": [
    {
     "name": "stdout",
     "output_type": "stream",
     "text": [
      "******************** Name ********************\n",
      "REDMI       204\n",
      "realme      189\n",
      "vivo        143\n",
      "SAMSUNG     134\n",
      "POCO         84\n",
      "MOTOROLA     62\n",
      "OnePlus      55\n",
      "OPPO         41\n",
      "Name: Name, dtype: int64\n",
      "******************** Price ********************\n",
      "9999      31\n",
      "14999     24\n",
      "17999     24\n",
      "15999     24\n",
      "18999     24\n",
      "          ..\n",
      "11599      1\n",
      "19189      1\n",
      "15249      1\n",
      "16399      1\n",
      "109999     1\n",
      "Name: Price, Length: 322, dtype: int64\n",
      "******************** ram ********************\n",
      "4      267\n",
      "8      266\n",
      "6      217\n",
      "3       53\n",
      "12      49\n",
      "2       48\n",
      "16       7\n",
      "128      3\n",
      "10       2\n",
      "Name: ram, dtype: int64\n",
      "******************** Rom ********************\n",
      "128    458\n",
      "64     237\n",
      "256    127\n",
      "32      83\n",
      "512      4\n",
      "6        3\n",
      "Name: Rom, dtype: int64\n",
      "******************** display ********************\n",
      "16.51    138\n",
      "16.76    100\n",
      "17.02     85\n",
      "16.94     79\n",
      "16.71     65\n",
      "16.33     50\n",
      "16.56     45\n",
      "16.66     44\n",
      "16.36     37\n",
      "16.59     34\n",
      "16.26     33\n",
      "16.54     28\n",
      "16.64     21\n",
      "17.04     21\n",
      "17.07     20\n",
      "17.25     20\n",
      "17.12     16\n",
      "16.21     14\n",
      "17.22     14\n",
      "15.80     12\n",
      "16.81     11\n",
      "16.74      8\n",
      "16.87      4\n",
      "16.55      2\n",
      "15.70      2\n",
      "16.43      2\n",
      "41.94      2\n",
      "16.28      2\n",
      "16.22      1\n",
      "15.75      1\n",
      "17.27      1\n",
      "Name: display, dtype: int64\n",
      "******************** HD ********************\n",
      "Yes    660\n",
      "No     252\n",
      "Name: HD, dtype: int64\n",
      "******************** Front_Camera_Resolution_MP ********************\n",
      "0     230\n",
      "16    208\n",
      "8     161\n",
      "5     148\n",
      "13     69\n",
      "32     62\n",
      "50     15\n",
      "10      7\n",
      "44      6\n",
      "60      2\n",
      "20      2\n",
      "12      2\n",
      "Name: Front_Camera_Resolution_MP, dtype: int64\n",
      "******************** Back/Rare Camera ********************\n",
      "50MP Rear Camera              132\n",
      "50MP + 2MP                     72\n",
      "8MP Rear Camera                64\n",
      "50MP + 2MP + 2MP               50\n",
      "50MP + 8MP + 2MP               49\n",
      "                             ... \n",
      "16MP + 2MP + 2MP                1\n",
      "12MP + 5MP                      1\n",
      "64MP + 12MP + 5MP + 5MP         1\n",
      "50MP + 32MP + 8MP               1\n",
      "200MP + 10MP + 12MP + 10MP      1\n",
      "Name: Back/Rare Camera, Length: 80, dtype: int64\n",
      "******************** Battery ********************\n",
      "5000.0    649\n",
      "6000.0     79\n",
      "4500.0     68\n",
      "5020.0     15\n",
      "4600.0     12\n",
      "4000.0     11\n",
      "4400.0      9\n",
      "4300.0      8\n",
      "4230.0      8\n",
      "4980.0      7\n",
      "4700.0      6\n",
      "4030.0      5\n",
      "4450.0      5\n",
      "3700.0      4\n",
      "4200.0      4\n",
      "3300.0      4\n",
      "4020.0      3\n",
      "4800.0      3\n",
      "4830.0      3\n",
      "4610.0      2\n",
      "4115.0      2\n",
      "5080.0      2\n",
      "4050.0      2\n",
      "4810.0      1\n",
      "Name: Battery, dtype: int64\n"
     ]
    }
   ],
   "source": [
    "for i in df.columns:\n",
    "    print(\"*\"*20, i , \"*\"*20)\n",
    "    print(df[i].value_counts())"
   ]
  },
  {
   "cell_type": "markdown",
   "id": "ef4f34d6",
   "metadata": {},
   "source": [
    "# 8. Let's separate X and Y."
   ]
  },
  {
   "cell_type": "code",
   "execution_count": 20,
   "id": "cef75e45",
   "metadata": {
    "scrolled": true
   },
   "outputs": [],
   "source": [
    "x=df.drop(\"Price\", axis=1)\n",
    "y= df[\"Price\"]\n"
   ]
  },
  {
   "cell_type": "code",
   "execution_count": 21,
   "id": "0b2bda89",
   "metadata": {},
   "outputs": [
    {
     "data": {
      "text/plain": [
       "0        6499\n",
       "1        6499\n",
       "2        5499\n",
       "3       13999\n",
       "4       13999\n",
       "        ...  \n",
       "907     11479\n",
       "908    109999\n",
       "909     12999\n",
       "910     12999\n",
       "911     19999\n",
       "Name: Price, Length: 912, dtype: int64"
      ]
     },
     "execution_count": 21,
     "metadata": {},
     "output_type": "execute_result"
    }
   ],
   "source": [
    "\n",
    "y"
   ]
  },
  {
   "cell_type": "markdown",
   "id": "aacd3d93",
   "metadata": {},
   "source": [
    "# 9. Let's perform encoding"
   ]
  },
  {
   "cell_type": "code",
   "execution_count": 22,
   "id": "18f3b84d",
   "metadata": {},
   "outputs": [],
   "source": [
    "from sklearn.compose import ColumnTransformer\n",
    "from sklearn.preprocessing import OrdinalEncoder, LabelEncoder\n"
   ]
  },
  {
   "cell_type": "code",
   "execution_count": 23,
   "id": "8625441c",
   "metadata": {},
   "outputs": [],
   "source": [
    "ct= ColumnTransformer([(\"oencoder\", OrdinalEncoder(),[\"Name\" , \"HD\", \"Back/Rare Camera\"])], remainder=\"passthrough\")"
   ]
  },
  {
   "cell_type": "code",
   "execution_count": 24,
   "id": "30327693",
   "metadata": {},
   "outputs": [],
   "source": [
    "x= ct.fit_transform(x)\n"
   ]
  },
  {
   "cell_type": "code",
   "execution_count": 25,
   "id": "abf19bc2",
   "metadata": {
    "scrolled": true
   },
   "outputs": [
    {
     "data": {
      "text/plain": [
       "array([[3.000e+00, 1.000e+00, 7.800e+01, ..., 1.656e+01, 5.000e+00,\n",
       "        5.000e+03],\n",
       "       [3.000e+00, 1.000e+00, 7.800e+01, ..., 1.656e+01, 5.000e+00,\n",
       "        5.000e+03],\n",
       "       [3.000e+00, 1.000e+00, 7.700e+01, ..., 1.656e+01, 5.000e+00,\n",
       "        5.000e+03],\n",
       "       ...,\n",
       "       [6.000e+00, 1.000e+00, 2.800e+01, ..., 1.651e+01, 1.600e+01,\n",
       "        5.000e+03],\n",
       "       [6.000e+00, 1.000e+00, 2.800e+01, ..., 1.651e+01, 1.600e+01,\n",
       "        5.000e+03],\n",
       "       [3.000e+00, 1.000e+00, 7.100e+01, ..., 1.694e+01, 1.600e+01,\n",
       "        5.000e+03]])"
      ]
     },
     "execution_count": 25,
     "metadata": {},
     "output_type": "execute_result"
    }
   ],
   "source": [
    "x"
   ]
  },
  {
   "cell_type": "markdown",
   "id": "6ca1add0",
   "metadata": {},
   "source": [
    "# 10.  Let's visualize the correlation between X and Y using a heatmap."
   ]
  },
  {
   "cell_type": "code",
   "execution_count": 26,
   "id": "fcbd461c",
   "metadata": {
    "scrolled": false
   },
   "outputs": [
    {
     "data": {
      "image/png": "[encoded data removed]",
      "text/plain": [
       "<Figure size 432x288 with 2 Axes>"
      ]
     },
     "metadata": {
      "needs_background": "light"
     },
     "output_type": "display_data"
    }
   ],
   "source": [
    "sns.heatmap(df.corr(), annot= True)\n",
    "plt.show()"
   ]
  },
  {
   "cell_type": "markdown",
   "id": "fb67e986",
   "metadata": {},
   "source": [
    "# 11. Distribution of the target column."
   ]
  },
  {
   "cell_type": "code",
   "execution_count": 27,
   "id": "5f5c9231",
   "metadata": {
    "scrolled": true
   },
   "outputs": [
    {
     "data": {
      "image/png": "[encoded data removed]",
      "text/plain": [
       "<Figure size 432x288 with 1 Axes>"
      ]
     },
     "metadata": {
      "needs_background": "light"
     },
     "output_type": "display_data"
    }
   ],
   "source": [
    "sns.distplot(df[\"Price\"])\n",
    "plt.show()"
   ]
  },
  {
   "cell_type": "markdown",
   "id": "cc5ec761",
   "metadata": {},
   "source": [
    "##### \"Looking at the distribution plot, we can see that the target column is skewed towards the right side. To handle this, we'll use a log transformation on the target column.\n",
    "\n",
    "#### We're doing this because the log transformation can help balance out the data and make it easier for our model to work with.\""
   ]
  },
  {
   "cell_type": "code",
   "execution_count": 28,
   "id": "8e1d1c5d",
   "metadata": {},
   "outputs": [],
   "source": [
    "y= np.log(y)"
   ]
  },
  {
   "cell_type": "markdown",
   "id": "3861eaca",
   "metadata": {},
   "source": [
    "# 12. Let's build a model using the Random Forest algorithm."
   ]
  },
  {
   "cell_type": "code",
   "execution_count": 29,
   "id": "aa9d4c20",
   "metadata": {},
   "outputs": [],
   "source": [
    "from sklearn.model_selection import train_test_split\n",
    "xtrain, xtest, ytrain, ytest= train_test_split(x, y, random_state= 123, test_size= 0.20)"
   ]
  },
  {
   "cell_type": "code",
   "execution_count": 30,
   "id": "e73e2f09",
   "metadata": {},
   "outputs": [],
   "source": [
    "from sklearn.ensemble import RandomForestRegressor\n",
    "rf= RandomForestRegressor()\n",
    "from sklearn.metrics import r2_score, mean_squared_error, make_scorer"
   ]
  },
  {
   "cell_type": "code",
   "execution_count": 31,
   "id": "445acd68",
   "metadata": {},
   "outputs": [],
   "source": [
    "r2_train=[]\n",
    "r2_test= []\n",
    "rmse= []\n",
    "def model_build(model):\n",
    "    model.fit(xtrain, ytrain)\n",
    "    ytrain_pred = model.predict(xtrain)\n",
    "    ytest_pred= model.predict(xtest)\n",
    "    a= r2_score(ytrain, ytrain_pred)\n",
    "    r2_train.append(a)\n",
    "    b= r2_score(ytest, ytest_pred)\n",
    "    r2_test.append(b)\n",
    "    rms= round(np.sqrt((mean_squared_error(ytest, ytest_pred))),2)\n",
    "    rmse.append(rms)\n",
    "    print(model)\n",
    "    print(\"Training Accuracy\", a)\n",
    "    print(\"Testing Accuracy\", b)   \n",
    "    print(\"RMSE\", rms)"
   ]
  },
  {
   "cell_type": "code",
   "execution_count": 32,
   "id": "b1c341c0",
   "metadata": {},
   "outputs": [
    {
     "name": "stdout",
     "output_type": "stream",
     "text": [
      "RandomForestRegressor()\n",
      "Training Accuracy 0.9832354118686777\n",
      "Testing Accuracy 0.9373997536591705\n",
      "RMSE 0.12\n"
     ]
    }
   ],
   "source": [
    "model_build(rf)"
   ]
  },
  {
   "cell_type": "markdown",
   "id": "28125bac",
   "metadata": {},
   "source": [
    "##### I employed the Random Forest model. During training, it achieved an accuracy of around 98.4%. When put to the test with new data, it reached an accuracy of about 94.4%. The Root Mean Squared Error (RMSE) was roughly 0.12."
   ]
  },
  {
   "cell_type": "code",
   "execution_count": 33,
   "id": "6a7e6348",
   "metadata": {},
   "outputs": [
    {
     "data": {
      "text/html": [
       "<div>\n",
       "<style scoped>\n",
       "    .dataframe tbody tr th:only-of-type {\n",
       "        vertical-align: middle;\n",
       "    }\n",
       "\n",
       "    .dataframe tbody tr th {\n",
       "        vertical-align: top;\n",
       "    }\n",
       "\n",
       "    .dataframe thead th {\n",
       "        text-align: right;\n",
       "    }\n",
       "</style>\n",
       "<table border=\"1\" class=\"dataframe\">\n",
       "  <thead>\n",
       "    <tr style=\"text-align: right;\">\n",
       "      <th></th>\n",
       "      <th>Name</th>\n",
       "      <th>Price</th>\n",
       "      <th>ram</th>\n",
       "      <th>Rom</th>\n",
       "      <th>display</th>\n",
       "      <th>HD</th>\n",
       "      <th>Front_Camera_Resolution_MP</th>\n",
       "      <th>Back/Rare Camera</th>\n",
       "      <th>Battery</th>\n",
       "    </tr>\n",
       "  </thead>\n",
       "  <tbody>\n",
       "    <tr>\n",
       "      <th>0</th>\n",
       "      <td>POCO</td>\n",
       "      <td>6499</td>\n",
       "      <td>4</td>\n",
       "      <td>64</td>\n",
       "      <td>16.56</td>\n",
       "      <td>Yes</td>\n",
       "      <td>5</td>\n",
       "      <td>8MP Dual Rear Camera</td>\n",
       "      <td>5000.0</td>\n",
       "    </tr>\n",
       "    <tr>\n",
       "      <th>1</th>\n",
       "      <td>POCO</td>\n",
       "      <td>6499</td>\n",
       "      <td>4</td>\n",
       "      <td>64</td>\n",
       "      <td>16.56</td>\n",
       "      <td>Yes</td>\n",
       "      <td>5</td>\n",
       "      <td>8MP Dual Rear Camera</td>\n",
       "      <td>5000.0</td>\n",
       "    </tr>\n",
       "    <tr>\n",
       "      <th>2</th>\n",
       "      <td>POCO</td>\n",
       "      <td>5499</td>\n",
       "      <td>2</td>\n",
       "      <td>32</td>\n",
       "      <td>16.56</td>\n",
       "      <td>Yes</td>\n",
       "      <td>5</td>\n",
       "      <td>8MP Dual Camera</td>\n",
       "      <td>5000.0</td>\n",
       "    </tr>\n",
       "    <tr>\n",
       "      <th>3</th>\n",
       "      <td>vivo</td>\n",
       "      <td>13999</td>\n",
       "      <td>6</td>\n",
       "      <td>128</td>\n",
       "      <td>16.71</td>\n",
       "      <td>Yes</td>\n",
       "      <td>8</td>\n",
       "      <td>50MP + 2MP</td>\n",
       "      <td>5000.0</td>\n",
       "    </tr>\n",
       "    <tr>\n",
       "      <th>4</th>\n",
       "      <td>vivo</td>\n",
       "      <td>13999</td>\n",
       "      <td>6</td>\n",
       "      <td>128</td>\n",
       "      <td>16.71</td>\n",
       "      <td>Yes</td>\n",
       "      <td>8</td>\n",
       "      <td>50MP + 2MP</td>\n",
       "      <td>5000.0</td>\n",
       "    </tr>\n",
       "  </tbody>\n",
       "</table>\n",
       "</div>"
      ],
      "text/plain": [
       "   Name  Price  ram  Rom  display   HD  Front_Camera_Resolution_MP  \\\n",
       "0  POCO   6499    4   64    16.56  Yes                           5   \n",
       "1  POCO   6499    4   64    16.56  Yes                           5   \n",
       "2  POCO   5499    2   32    16.56  Yes                           5   \n",
       "3  vivo  13999    6  128    16.71  Yes                           8   \n",
       "4  vivo  13999    6  128    16.71  Yes                           8   \n",
       "\n",
       "       Back/Rare Camera  Battery  \n",
       "0  8MP Dual Rear Camera   5000.0  \n",
       "1  8MP Dual Rear Camera   5000.0  \n",
       "2       8MP Dual Camera   5000.0  \n",
       "3            50MP + 2MP   5000.0  \n",
       "4            50MP + 2MP   5000.0  "
      ]
     },
     "execution_count": 33,
     "metadata": {},
     "output_type": "execute_result"
    }
   ],
   "source": [
    "df.head()"
   ]
  },
  {
   "cell_type": "code",
   "execution_count": 34,
   "id": "9188c3d2",
   "metadata": {},
   "outputs": [],
   "source": [
    "a={\"Name\": \"vivo\", \"ram\": 6, \"Rom\": 128, \"display\": 16.71, \"HD\": \"Yes\", \"Front_Camera_Resolution_MP\": 8, \"Back/Rare Camera\": \"50MP + 2MP\",\n",
    "\"Battery\": 5000}"
   ]
  },
  {
   "cell_type": "code",
   "execution_count": 35,
   "id": "5fa3e302",
   "metadata": {},
   "outputs": [],
   "source": [
    "a= pd.DataFrame([a])"
   ]
  },
  {
   "cell_type": "code",
   "execution_count": 36,
   "id": "16937573",
   "metadata": {},
   "outputs": [
    {
     "data": {
      "text/html": [
       "<div>\n",
       "<style scoped>\n",
       "    .dataframe tbody tr th:only-of-type {\n",
       "        vertical-align: middle;\n",
       "    }\n",
       "\n",
       "    .dataframe tbody tr th {\n",
       "        vertical-align: top;\n",
       "    }\n",
       "\n",
       "    .dataframe thead th {\n",
       "        text-align: right;\n",
       "    }\n",
       "</style>\n",
       "<table border=\"1\" class=\"dataframe\">\n",
       "  <thead>\n",
       "    <tr style=\"text-align: right;\">\n",
       "      <th></th>\n",
       "      <th>Name</th>\n",
       "      <th>ram</th>\n",
       "      <th>Rom</th>\n",
       "      <th>display</th>\n",
       "      <th>HD</th>\n",
       "      <th>Front_Camera_Resolution_MP</th>\n",
       "      <th>Back/Rare Camera</th>\n",
       "      <th>Battery</th>\n",
       "    </tr>\n",
       "  </thead>\n",
       "  <tbody>\n",
       "    <tr>\n",
       "      <th>0</th>\n",
       "      <td>vivo</td>\n",
       "      <td>6</td>\n",
       "      <td>128</td>\n",
       "      <td>16.71</td>\n",
       "      <td>Yes</td>\n",
       "      <td>8</td>\n",
       "      <td>50MP + 2MP</td>\n",
       "      <td>5000</td>\n",
       "    </tr>\n",
       "  </tbody>\n",
       "</table>\n",
       "</div>"
      ],
      "text/plain": [
       "   Name  ram  Rom  display   HD  Front_Camera_Resolution_MP Back/Rare Camera  \\\n",
       "0  vivo    6  128    16.71  Yes                           8       50MP + 2MP   \n",
       "\n",
       "   Battery  \n",
       "0     5000  "
      ]
     },
     "execution_count": 36,
     "metadata": {},
     "output_type": "execute_result"
    }
   ],
   "source": [
    "a"
   ]
  },
  {
   "cell_type": "code",
   "execution_count": 38,
   "id": "8329a1e3",
   "metadata": {},
   "outputs": [],
   "source": [
    "a= ct.transform(a)"
   ]
  },
  {
   "cell_type": "code",
   "execution_count": 39,
   "id": "0ecea13d",
   "metadata": {},
   "outputs": [
    {
     "data": {
      "text/plain": [
       "array([[7.000e+00, 1.000e+00, 4.700e+01, 6.000e+00, 1.280e+02, 1.671e+01,\n",
       "        8.000e+00, 5.000e+03]])"
      ]
     },
     "execution_count": 39,
     "metadata": {},
     "output_type": "execute_result"
    }
   ],
   "source": [
    "a"
   ]
  },
  {
   "cell_type": "code",
   "execution_count": 41,
   "id": "309088a9",
   "metadata": {},
   "outputs": [],
   "source": [
    "a=rf.predict(a)"
   ]
  },
  {
   "cell_type": "code",
   "execution_count": 42,
   "id": "8f5f4065",
   "metadata": {},
   "outputs": [
    {
     "data": {
      "text/plain": [
       "array([15739.97105633])"
      ]
     },
     "execution_count": 42,
     "metadata": {},
     "output_type": "execute_result"
    }
   ],
   "source": [
    "np.exp(a)"
   ]
  },
  {
   "cell_type": "code",
   "execution_count": 43,
   "id": "02e47233",
   "metadata": {},
   "outputs": [],
   "source": [
    "a={\"Name\": \"vivo\", \"ram\": 3, \"Rom\": 32, \"display\": 16.54, \"HD\": \"Yes\", \"Front_Camera_Resolution_MP\": 5, \"Back/Rare Camera\": \"13MP + 2MP\",\n",
    "\"Battery\": 5000}"
   ]
  },
  {
   "cell_type": "code",
   "execution_count": 44,
   "id": "4210176a",
   "metadata": {},
   "outputs": [],
   "source": [
    "a= pd.DataFrame([a])\n",
    "a= ct.transform(a)\n",
    "a=rf.predict(a)"
   ]
  },
  {
   "cell_type": "code",
   "execution_count": 45,
   "id": "60f821fa",
   "metadata": {},
   "outputs": [
    {
     "data": {
      "text/plain": [
       "array([11668.28358584])"
      ]
     },
     "execution_count": 45,
     "metadata": {},
     "output_type": "execute_result"
    }
   ],
   "source": [
    "np.exp(a)"
   ]
  },
  {
   "cell_type": "code",
   "execution_count": 46,
   "id": "1b72c4ed",
   "metadata": {},
   "outputs": [],
   "source": [
    "import pickle"
   ]
  },
  {
   "cell_type": "code",
   "execution_count": 47,
   "id": "89d43414",
   "metadata": {},
   "outputs": [],
   "source": [
    "pickle.dump(rf, open(\"mobilePricemodel.pkl\", \"wb\"))"
   ]
  },
  {
   "cell_type": "code",
   "execution_count": 48,
   "id": "3c8718b7",
   "metadata": {},
   "outputs": [],
   "source": [
    "pickle.dump(ct, open(\"ctmobile.pkl\", \"wb\"))"
   ]
  },
  {
   "cell_type": "code",
   "execution_count": 49,
   "id": "3338cde7",
   "metadata": {},
   "outputs": [],
   "source": [
    "pickle.dump(df, open(\"mobiledata.pkl\", \"wb\"))"
   ]
  },
  {
   "cell_type": "code",
   "execution_count": null,
   "id": "63ed09a0",
   "metadata": {},
   "outputs": [],
   "source": []
  }
 ],
 "metadata": {
  "kernelspec": {
   "display_name": "Python 3 (ipykernel)",
   "language": "python",
   "name": "python3"
  },
  "language_info": {
   "codemirror_mode": {
    "name": "ipython",
    "version": 3
   },
   "file_extension": ".py",
   "mimetype": "text/x-python",
   "name": "python",
   "nbconvert_exporter": "python",
   "pygments_lexer": "ipython3",
   "version": "3.9.12"
  }
 },
 "nbformat": 4,
 "nbformat_minor": 5
}
